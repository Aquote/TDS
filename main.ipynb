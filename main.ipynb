{
 "cells": [
  {
   "cell_type": "code",
   "execution_count": 6,
   "metadata": {},
   "outputs": [
    {
     "name": "stdout",
     "output_type": "stream",
     "text": [
      "Chemin de l'image de référence : 1.png\n"
     ]
    },
    {
     "ename": "error",
     "evalue": "OpenCV(4.8.1) D:\\a\\opencv-python\\opencv-python\\opencv\\modules\\imgproc\\src\\color.cpp:182: error: (-215:Assertion failed) !_src.empty() in function 'cv::cvtColor'\n",
     "output_type": "error",
     "traceback": [
      "\u001b[1;31m---------------------------------------------------------------------------\u001b[0m",
      "\u001b[1;31merror\u001b[0m                                     Traceback (most recent call last)",
      "\u001b[1;32mc:\\3-ème-EPHEC\\Traitement_Signal\\Projet TDS\\TDS\\main.ipynb Cellule 1\u001b[0m line \u001b[0;36m1\n\u001b[0;32m      <a href='vscode-notebook-cell:/c%3A/3-%C3%A8me-EPHEC/Traitement_Signal/Projet%20TDS/TDS/main.ipynb#W0sZmlsZQ%3D%3D?line=7'>8</a>\u001b[0m \u001b[39mprint\u001b[39m(\u001b[39m'\u001b[39m\u001b[39mChemin de l\u001b[39m\u001b[39m\\'\u001b[39;00m\u001b[39mimage de référence :\u001b[39m\u001b[39m'\u001b[39m, \u001b[39m'\u001b[39m\u001b[39m1.png\u001b[39m\u001b[39m'\u001b[39m)\n\u001b[0;32m      <a href='vscode-notebook-cell:/c%3A/3-%C3%A8me-EPHEC/Traitement_Signal/Projet%20TDS/TDS/main.ipynb#W0sZmlsZQ%3D%3D?line=8'>9</a>\u001b[0m \u001b[39m# Assurez-vous que l'image est au format BGR, vous pouvez la convertir en RGB si nécessaire\u001b[39;00m\n\u001b[1;32m---> <a href='vscode-notebook-cell:/c%3A/3-%C3%A8me-EPHEC/Traitement_Signal/Projet%20TDS/TDS/main.ipynb#W0sZmlsZQ%3D%3D?line=9'>10</a>\u001b[0m image_reference \u001b[39m=\u001b[39m cv2\u001b[39m.\u001b[39;49mcvtColor(image_reference, cv2\u001b[39m.\u001b[39;49mCOLOR_BGR2RGB)\n\u001b[0;32m     <a href='vscode-notebook-cell:/c%3A/3-%C3%A8me-EPHEC/Traitement_Signal/Projet%20TDS/TDS/main.ipynb#W0sZmlsZQ%3D%3D?line=11'>12</a>\u001b[0m \u001b[39m# Afficher l'image à l'aide de Matplotlib\u001b[39;00m\n\u001b[0;32m     <a href='vscode-notebook-cell:/c%3A/3-%C3%A8me-EPHEC/Traitement_Signal/Projet%20TDS/TDS/main.ipynb#W0sZmlsZQ%3D%3D?line=12'>13</a>\u001b[0m plt\u001b[39m.\u001b[39mimshow(image_reference)\n",
      "\u001b[1;31merror\u001b[0m: OpenCV(4.8.1) D:\\a\\opencv-python\\opencv-python\\opencv\\modules\\imgproc\\src\\color.cpp:182: error: (-215:Assertion failed) !_src.empty() in function 'cv::cvtColor'\n"
     ]
    }
   ],
   "source": [
    "import cv2\n",
    "import numpy as np\n",
    "import matplotlib.pyplot as plt\n",
    "\n",
    "# Charger les images\n",
    "image_reference = cv2.imread('./fichierImage/1.png')\n",
    "image_to_compare = cv2.imread('./fichierImage/2.png')\n",
    "print('Chemin de l\\'image de référence :', '1.png')\n",
    "# Assurez-vous que l'image est au format BGR, vous pouvez la convertir en RGB si nécessaire\n",
    "image_reference = cv2.cvtColor(image_reference, cv2.COLOR_BGR2RGB)\n",
    "\n",
    "# Afficher l'image à l'aide de Matplotlib\n",
    "plt.imshow(image_reference)\n",
    "plt.axis('off')  # Désactive les axes\n",
    "plt.show()\n",
    "\n",
    "# À partir de ce point, vous pouvez ajouter la logique pour l'analyse, la comparaison et la validation des images comme vous l'avez décrit dans votre question initiale.\n"
   ]
  },
  {
   "cell_type": "code",
   "execution_count": null,
   "metadata": {},
   "outputs": [],
   "source": []
  }
 ],
 "metadata": {
  "kernelspec": {
   "display_name": "Python 3",
   "language": "python",
   "name": "python3"
  },
  "language_info": {
   "codemirror_mode": {
    "name": "ipython",
    "version": 3
   },
   "file_extension": ".py",
   "mimetype": "text/x-python",
   "name": "python",
   "nbconvert_exporter": "python",
   "pygments_lexer": "ipython3",
   "version": "3.11.5"
  }
 },
 "nbformat": 4,
 "nbformat_minor": 2
}
